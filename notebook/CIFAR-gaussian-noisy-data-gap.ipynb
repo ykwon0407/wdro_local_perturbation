{
 "cells": [
  {
   "cell_type": "code",
   "execution_count": 1,
   "metadata": {},
   "outputs": [],
   "source": [
    "import sys\n",
    "sys.path.append('../libml')\n",
    "from summary_utils import summarize_noise_results\n",
    "\n",
    "%matplotlib inline\n",
    "import matplotlib\n",
    "matplotlib.use('Agg')\n",
    "from matplotlib import pyplot as plt\n",
    "plt.style.use('seaborn-white')"
   ]
  },
  {
   "cell_type": "code",
   "execution_count": 2,
   "metadata": {},
   "outputs": [],
   "source": [
    "label_font_size = 22\n",
    "title_font_size = 25\n",
    "legend_font_size = 18\n",
    "SIGMA = 1.\n",
    "model_list = ['erm','mixup','l2_0.001','l2_0.002','l2_0.004','l2_0.008']\n",
    "name_list=['ERM','Mixup','l2_0.001','l2_0.002','l2_0.004','l2_0.008']\n",
    "color_list=['gray', 'red', 'skyblue', 'dodgerblue','blue', 'navy'] # darkslateblue"
   ]
  },
  {
   "cell_type": "code",
   "execution_count": 3,
   "metadata": {},
   "outputs": [],
   "source": [
    "def show_noise_gap_plot(dataset='cifar10'):\n",
    "    if dataset == 'cifar10':\n",
    "        x_list = [2500,5000,25000,50000]\n",
    "        ylim_data = -30\n",
    "    elif dataset == 'cifar100':\n",
    "        x_list = [2500,5000,25000,50000]\n",
    "        ylim_data = -50\n",
    "    else:\n",
    "        assert False, \"Please, check datasets\"\n",
    "        \n",
    "    var_list = [0.005, 0.01, 0.02]\n",
    "    plt.figure(figsize=(25,8))    \n",
    "    for ind, var in enumerate(var_list):\n",
    "        plt.subplot(1,3,int(ind+1))\n",
    "        df_data = summarize_noise_results(dataset='cifar10', **{'mode':'gaussian', 'var': var})\n",
    "        \n",
    "        for i in range(len(color_list)):\n",
    "            #test plot\n",
    "            ymean = df_data['gap_test_mean'][df_data['model']==model_list[i]]\n",
    "            yerr = df_data['gap_test_std'][df_data['model']==model_list[i]]\n",
    "            plt.plot((x_list), ymean, '--', marker='o',\n",
    "             color=color_list[i], label=name_list[i], alpha=0.75) \n",
    "            plt.fill_between((x_list), ymean-SIGMA*yerr, ymean+SIGMA*yerr,\n",
    "             alpha=0.3, edgecolor=color_list[i], facecolor=color_list[i])\n",
    "        \n",
    "        if ind == 0:    \n",
    "            plt.ylabel('Accuracy (in %)', fontsize=label_font_size)\n",
    "            plt.legend(loc='lower left', borderaxespad=0., fontsize=legend_font_size)\n",
    "        if ind == 1:\n",
    "            plt.xlabel(\"Sample size $n$\", fontsize=label_font_size)\n",
    "        plt.ylim(ylim_data,0)\n",
    "        plt.title('Variance:{}'.format(var), fontsize=title_font_size)\n",
    "    \n",
    "    plt.savefig('figures/g-noise_gap_{}.pdf'.format(dataset), dpi=300, bbox_inches='tight', pad_inches=0.1)\n",
    "    plt.show()\n"
   ]
  },
  {
   "cell_type": "markdown",
   "metadata": {},
   "source": [
    "# Visualize degradation gap\n",
    "## CIFAR-10"
   ]
  },
  {
   "cell_type": "code",
   "execution_count": 4,
   "metadata": {},
   "outputs": [
    {
     "name": "stdout",
     "output_type": "stream",
     "text": [
      "------------------------------\n",
      "Gaussian\n",
      "------------------------------\n"
     ]
    }
   ],
   "source": [
    "print('-'*30)\n",
    "print('Gaussian')\n",
    "print('-'*30)\n",
    "show_noise_gap_plot(dataset='cifar10')"
   ]
  },
  {
   "cell_type": "markdown",
   "metadata": {},
   "source": [
    "## CIFAR-100"
   ]
  },
  {
   "cell_type": "code",
   "execution_count": 5,
   "metadata": {},
   "outputs": [
    {
     "name": "stdout",
     "output_type": "stream",
     "text": [
      "------------------------------\n",
      "Gaussian\n",
      "------------------------------\n"
     ]
    }
   ],
   "source": [
    "print('-'*30)\n",
    "print('Gaussian')\n",
    "print('-'*30)\n",
    "show_noise_gap_plot(dataset='cifar100')"
   ]
  },
  {
   "cell_type": "code",
   "execution_count": null,
   "metadata": {},
   "outputs": [],
   "source": []
  }
 ],
 "metadata": {
  "kernelspec": {
   "display_name": "Python 3",
   "language": "python",
   "name": "python3"
  },
  "language_info": {
   "codemirror_mode": {
    "name": "ipython",
    "version": 3
   },
   "file_extension": ".py",
   "mimetype": "text/x-python",
   "name": "python",
   "nbconvert_exporter": "python",
   "pygments_lexer": "ipython3",
   "version": "3.6.8"
  }
 },
 "nbformat": 4,
 "nbformat_minor": 2
}
